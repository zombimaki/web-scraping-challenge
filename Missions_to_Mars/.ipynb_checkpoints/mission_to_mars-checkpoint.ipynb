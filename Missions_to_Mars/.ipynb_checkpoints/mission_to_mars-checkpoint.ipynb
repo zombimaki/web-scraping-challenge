{
 "cells": [
  {
   "cell_type": "markdown",
   "metadata": {},
   "source": [
    "# Web Scraping Homework - Mission to Mars"
   ]
  },
  {
   "cell_type": "code",
   "execution_count": 1,
   "metadata": {},
   "outputs": [],
   "source": [
    "from bs4 import BeautifulSoup as bs\n",
    "import pandas as pd\n",
    "import requests\n",
    "from splinter import Browser"
   ]
  },
  {
   "cell_type": "code",
   "execution_count": 2,
   "metadata": {},
   "outputs": [],
   "source": [
    "executable_path = {'executable_path': 'C:\\ProgramData\\ChromeDriver\\chromedriver'}\n",
    "browser = Browser('chrome', **executable_path, headless=False)"
   ]
  },
  {
   "cell_type": "markdown",
   "metadata": {},
   "source": [
    "## NASA Mars News"
   ]
  },
  {
   "cell_type": "code",
   "execution_count": 3,
   "metadata": {},
   "outputs": [],
   "source": [
    "# url for scraping\n",
    "mars_news_url = 'https://mars.nasa.gov/news/'\n",
    "browser.visit(mars_news_url)\n",
    "\n",
    "# HTML object\n",
    "mars_news_html = browser.html\n",
    "\n",
    "# Parse HTML with Beautiful Soup\n",
    "mars_news_soup = bs(mars_news_html, 'html.parser')"
   ]
  },
  {
   "cell_type": "code",
   "execution_count": 4,
   "metadata": {},
   "outputs": [
    {
     "name": "stdout",
     "output_type": "stream",
     "text": [
      "5 Hidden Gems Are Riding Aboard NASA's Perseverance Rover\n",
      "The symbols, mottos, and small objects added to the agency's newest Mars rover serve a variety of purposes, from functional to decorative.\n"
     ]
    }
   ],
   "source": [
    "# collect the latest News Title and Paragraph Text\n",
    "mars_news_find = mars_news_soup.find(\"div\", class_=\"list_text\")\n",
    "\n",
    "news_title = mars_news_find.find('div', class_='content_title').text\n",
    "\n",
    "news_p = mars_news_find.find('div', class_='article_teaser_body').text \n",
    "print(news_title)\n",
    "print(news_p)"
   ]
  },
  {
   "cell_type": "markdown",
   "metadata": {},
   "source": [
    "## JPL Mars Space Images - Featured Image"
   ]
  },
  {
   "cell_type": "code",
   "execution_count": 7,
   "metadata": {},
   "outputs": [],
   "source": [
    "# url for scraping\n",
    "jpl_base_url = 'https://www.jpl.nasa.gov/'\n",
    "jpl_suffix_url = 'spaceimages/?search=&category=Mars'\n",
    "jpl_img_url = jpl_base_url+jpl_suffix_url\n",
    "\n",
    "browser.visit(jpl_img_url)\n",
    "\n",
    "# HTML object\n",
    "jpl_img_html = browser.html\n",
    "\n",
    "# Parse HTML with Beautiful Soup\n",
    "jpl_img_soup = bs(jpl_img_html, 'html.parser')"
   ]
  },
  {
   "cell_type": "code",
   "execution_count": 8,
   "metadata": {},
   "outputs": [
    {
     "name": "stdout",
     "output_type": "stream",
     "text": [
      "https://www.jpl.nasa.gov/spaceimages/images/wallpaper/PIA18245-1920x1200.jpg\n"
     ]
    }
   ],
   "source": [
    "# find the div class \"carousel_container\"\n",
    "jpl_img_find = jpl_img_soup.find(\"div\", class_=\"carousel_container\")\n",
    "\n",
    "# find the img url in the ariticle class carousel_item in the style \n",
    "image_url = jpl_img_find.find(\"article\", class_=\"carousel_item\")[\"style\"].\\\n",
    "        replace(\"'\",'').\\\n",
    "        replace(\";\",'').\\\n",
    "        replace(\")\",'').\\\n",
    "        replace(\"(\",'').\\\n",
    "        replace(\"background-image: url/\",'')\n",
    "\n",
    "\n",
    "featured_image_url = jpl_base_url + image_url\n",
    "\n",
    "print(featured_image_url)"
   ]
  },
  {
   "cell_type": "markdown",
   "metadata": {},
   "source": [
    "## Mars Facts"
   ]
  },
  {
   "cell_type": "code",
   "execution_count": null,
   "metadata": {},
   "outputs": [],
   "source": []
  }
 ],
 "metadata": {
  "kernelspec": {
   "display_name": "Python [conda env:.conda-PythonData] *",
   "language": "python",
   "name": "conda-env-.conda-PythonData-py"
  },
  "language_info": {
   "codemirror_mode": {
    "name": "ipython",
    "version": 3
   },
   "file_extension": ".py",
   "mimetype": "text/x-python",
   "name": "python",
   "nbconvert_exporter": "python",
   "pygments_lexer": "ipython3",
   "version": "3.6.10"
  }
 },
 "nbformat": 4,
 "nbformat_minor": 4
}
